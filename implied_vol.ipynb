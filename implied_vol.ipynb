{
 "cells": [
  {
   "cell_type": "code",
   "execution_count": 270,
   "id": "51a3c1d4",
   "metadata": {},
   "outputs": [],
   "source": [
    "from py_vollib.black_scholes import black_scholes as bs\n",
    "from dateutil.relativedelta import relativedelta\n",
    "from datetime import date\n",
    "import math"
   ]
  },
  {
   "cell_type": "code",
   "execution_count": 268,
   "id": "8004fcbd",
   "metadata": {},
   "outputs": [],
   "source": [
    "def implied_vol(S, K, T, r, V, flag = 'c', tol = 0.0001):\n",
    "    \"\"\"Compute the implied volatility\n",
    "        S:     stock price \n",
    "        K:     strike price\n",
    "        T:     maturity\n",
    "        r:     risk-free rate\n",
    "        V:     option price\n",
    "        tol:   tolerance\n",
    "    \"\"\"\n",
    "    max_iter = 200\n",
    "    vol_min = 0\n",
    "    vol_max = 1\n",
    "    \n",
    "    if bs(flag, S, K, T, r, 0) > V:\n",
    "        print(\"BS-price with vol = 0.0% is\", bs(flag, S, K, T, r, 0).round(1), \", which is higher than\", V)\n",
    "        return -1\n",
    "    while(bs(flag, S, K, T, r, vol_max) < V):\n",
    "        vol_max = vol_max * 2\n",
    "    \n",
    "    for k in range(max_iter):\n",
    "        vol_mid = (vol_max + vol_min) / 2\n",
    "        \n",
    "        bs_mid = bs(flag, S, K, T, r, vol_mid)\n",
    "        \n",
    "        if abs(bs_mid - V) < tol:\n",
    "            break\n",
    "        if bs_mid < V:\n",
    "            vol_min = vol_mid\n",
    "        else:\n",
    "            vol_max = vol_mid\n",
    "    return vol_mid     "
   ]
  },
  {
   "cell_type": "code",
   "execution_count": 281,
   "id": "fa34cf46",
   "metadata": {},
   "outputs": [
    {
     "data": {
      "text/plain": [
       "0.59405517578125"
      ]
     },
     "execution_count": 281,
     "metadata": {},
     "output_type": "execute_result"
    }
   ],
   "source": [
    "S = 275.33\n",
    "K = 300\n",
    "V = 27.8\n",
    "\n",
    "r = 0.015\n",
    "\n",
    "start_date = date(2022, 9, 25)\n",
    "end_date = date(2023, 1, 20)\n",
    "T = (end_date - start_date).days/365\n",
    "\n",
    "implied_vol(S, K, T, r, V, flag = 'c', tol = 0.001)"
   ]
  },
  {
   "cell_type": "code",
   "execution_count": null,
   "id": "211d88fa",
   "metadata": {},
   "outputs": [],
   "source": []
  }
 ],
 "metadata": {
  "kernelspec": {
   "display_name": "Python 3 (ipykernel)",
   "language": "python",
   "name": "python3"
  },
  "language_info": {
   "codemirror_mode": {
    "name": "ipython",
    "version": 3
   },
   "file_extension": ".py",
   "mimetype": "text/x-python",
   "name": "python",
   "nbconvert_exporter": "python",
   "pygments_lexer": "ipython3",
   "version": "3.9.7"
  }
 },
 "nbformat": 4,
 "nbformat_minor": 5
}
